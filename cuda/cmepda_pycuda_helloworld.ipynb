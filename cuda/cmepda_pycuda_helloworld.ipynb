{
  "nbformat": 4,
  "nbformat_minor": 0,
  "metadata": {
    "colab": {
      "name": "cmepda_pycuda_helloworld.ipynb",
      "provenance": [],
      "collapsed_sections": [
        "283I7CoPk4pz",
        "xT51pS2fkyGL"
      ]
    },
    "kernelspec": {
      "name": "python3",
      "display_name": "Python 3"
    },
    "accelerator": "GPU"
  },
  "cells": [
    {
      "cell_type": "markdown",
      "metadata": {
        "id": "Ph21BmmGi6J1"
      },
      "source": [
        "# Prova PyCUDA\n",
        "Ricordarsi di cambiare il tipo di runtime su GPU (dal menù runtime).\n",
        "\n",
        "Toggle numeri di riga nelle celle: CTRL+M CTRL+L (`{CTRL down} M L {CTRL up}`)"
      ]
    },
    {
      "cell_type": "markdown",
      "metadata": {
        "id": "283I7CoPk4pz"
      },
      "source": [
        "## Installazione"
      ]
    },
    {
      "cell_type": "code",
      "metadata": {
        "id": "nEDEu5Q6ibza",
        "outputId": "00385a11-313c-4790-8b52-1413c2a86bf7",
        "colab": {
          "base_uri": "https://localhost:8080/"
        }
      },
      "source": [
        "!pip install pycuda"
      ],
      "execution_count": 2,
      "outputs": [
        {
          "output_type": "stream",
          "text": [
            "Collecting pycuda\n",
            "\u001b[?25l  Downloading https://files.pythonhosted.org/packages/46/61/47d3235a4c13eec5a5f03594ddb268f4858734e02980afbcd806e6242fa5/pycuda-2020.1.tar.gz (1.6MB)\n",
            "\u001b[K     |████████████████████████████████| 1.6MB 11.2MB/s \n",
            "\u001b[?25hCollecting pytools>=2011.2\n",
            "\u001b[?25l  Downloading https://files.pythonhosted.org/packages/b7/30/c9362a282ef89106768cba9d884f4b2e4f5dc6881d0c19b478d2a710b82b/pytools-2020.4.3.tar.gz (62kB)\n",
            "\u001b[K     |████████████████████████████████| 71kB 10.9MB/s \n",
            "\u001b[?25hRequirement already satisfied: decorator>=3.2.0 in /usr/local/lib/python3.6/dist-packages (from pycuda) (4.4.2)\n",
            "Collecting appdirs>=1.4.0\n",
            "  Downloading https://files.pythonhosted.org/packages/3b/00/2344469e2084fb287c2e0b57b72910309874c3245463acd6cf5e3db69324/appdirs-1.4.4-py2.py3-none-any.whl\n",
            "Collecting mako\n",
            "\u001b[?25l  Downloading https://files.pythonhosted.org/packages/a6/37/0e706200d22172eb8fa17d68a7ae22dec7631a0a92266634fb518a88a5b2/Mako-1.1.3-py2.py3-none-any.whl (75kB)\n",
            "\u001b[K     |████████████████████████████████| 81kB 10.8MB/s \n",
            "\u001b[?25hRequirement already satisfied: six>=1.8.0 in /usr/local/lib/python3.6/dist-packages (from pytools>=2011.2->pycuda) (1.15.0)\n",
            "Requirement already satisfied: numpy>=1.6.0 in /usr/local/lib/python3.6/dist-packages (from pytools>=2011.2->pycuda) (1.18.5)\n",
            "Requirement already satisfied: dataclasses>=0.7 in /usr/local/lib/python3.6/dist-packages (from pytools>=2011.2->pycuda) (0.7)\n",
            "Requirement already satisfied: MarkupSafe>=0.9.2 in /usr/local/lib/python3.6/dist-packages (from mako->pycuda) (1.1.1)\n",
            "Building wheels for collected packages: pycuda, pytools\n",
            "  Building wheel for pycuda (setup.py) ... \u001b[?25l\u001b[?25hdone\n",
            "  Created wheel for pycuda: filename=pycuda-2020.1-cp36-cp36m-linux_x86_64.whl size=621567 sha256=e7d8a83ba38a3efd52eed77a84549a09ede0ac77f9bdf0d43ffa50179cd89102\n",
            "  Stored in directory: /root/.cache/pip/wheels/8f/78/d1/5bb826f81d9d490297a348d818ff3ee6dd6f2075b06dde6ea0\n",
            "  Building wheel for pytools (setup.py) ... \u001b[?25l\u001b[?25hdone\n",
            "  Created wheel for pytools: filename=pytools-2020.4.3-py2.py3-none-any.whl size=61374 sha256=b1c9f5c9390c25caa31d7ddf6ed7328802359ef74c6df6c537b3ab9a740129a0\n",
            "  Stored in directory: /root/.cache/pip/wheels/af/c7/81/a22edb90b0b09a880468b2253bb1df8e9f503337ee15432c64\n",
            "Successfully built pycuda pytools\n",
            "Installing collected packages: appdirs, pytools, mako, pycuda\n",
            "Successfully installed appdirs-1.4.4 mako-1.1.3 pycuda-2020.1 pytools-2020.4.3\n"
          ],
          "name": "stdout"
        }
      ]
    },
    {
      "cell_type": "code",
      "metadata": {
        "id": "wcqtm_t9jb9s",
        "outputId": "9524ff91-100c-4af2-e0d1-7c502a7afc5a",
        "colab": {
          "base_uri": "https://localhost:8080/"
        }
      },
      "source": [
        "import pycuda\n",
        "print(repr(pycuda))"
      ],
      "execution_count": 3,
      "outputs": [
        {
          "output_type": "stream",
          "text": [
            "<module 'pycuda' from '/usr/local/lib/python3.6/dist-packages/pycuda/__init__.py'>\n"
          ],
          "name": "stdout"
        }
      ]
    },
    {
      "cell_type": "markdown",
      "metadata": {
        "id": "xT51pS2fkyGL"
      },
      "source": [
        "## Ambiente esterno\n",
        "Bash, etc."
      ]
    },
    {
      "cell_type": "code",
      "metadata": {
        "id": "Mrhpf3bRkpno",
        "outputId": "f26dec33-1b19-45c9-ce7a-f35cb967fa36",
        "colab": {
          "base_uri": "https://localhost:8080/"
        }
      },
      "source": [
        "!nvcc --version"
      ],
      "execution_count": 4,
      "outputs": [
        {
          "output_type": "stream",
          "text": [
            "nvcc: NVIDIA (R) Cuda compiler driver\n",
            "Copyright (c) 2005-2019 NVIDIA Corporation\n",
            "Built on Sun_Jul_28_19:07:16_PDT_2019\n",
            "Cuda compilation tools, release 10.1, V10.1.243\n"
          ],
          "name": "stdout"
        }
      ]
    },
    {
      "cell_type": "code",
      "metadata": {
        "id": "_nPI2-cukq7M",
        "outputId": "ee5c2023-a6dc-4569-bc26-43251bc709f5",
        "colab": {
          "base_uri": "https://localhost:8080/"
        }
      },
      "source": [
        "!uname -a"
      ],
      "execution_count": 7,
      "outputs": [
        {
          "output_type": "stream",
          "text": [
            "Linux df8484f3b725 4.19.112+ #1 SMP Thu Jul 23 08:00:38 PDT 2020 x86_64 x86_64 x86_64 GNU/Linux\n"
          ],
          "name": "stdout"
        }
      ]
    },
    {
      "cell_type": "code",
      "metadata": {
        "id": "ii_589cmkt_E",
        "outputId": "050d981e-d995-45dd-b93f-6ffd8339c12f",
        "colab": {
          "base_uri": "https://localhost:8080/"
        }
      },
      "source": [
        "!ls"
      ],
      "execution_count": 9,
      "outputs": [
        {
          "output_type": "stream",
          "text": [
            "sample_data\n"
          ],
          "name": "stdout"
        }
      ]
    },
    {
      "cell_type": "code",
      "metadata": {
        "id": "DbxpQlvrlAqy",
        "outputId": "cf5a5c8a-f567-47fa-8d46-b61baab2b085",
        "colab": {
          "base_uri": "https://localhost:8080/"
        }
      },
      "source": [
        "ls"
      ],
      "execution_count": 10,
      "outputs": [
        {
          "output_type": "stream",
          "text": [
            "\u001b[0m\u001b[01;34msample_data\u001b[0m/\n"
          ],
          "name": "stdout"
        }
      ]
    },
    {
      "cell_type": "code",
      "metadata": {
        "id": "ccCjaebylCh0",
        "outputId": "ec707c9e-14f1-4a33-9a4d-14fe4c059035",
        "colab": {
          "base_uri": "https://localhost:8080/"
        }
      },
      "source": [
        "!pwd"
      ],
      "execution_count": 11,
      "outputs": [
        {
          "output_type": "stream",
          "text": [
            "/content\n"
          ],
          "name": "stdout"
        }
      ]
    },
    {
      "cell_type": "code",
      "metadata": {
        "id": "yP5ezCyvlEUZ",
        "outputId": "03acfbda-e13b-43ee-91ee-2672ea5e9ebe",
        "colab": {
          "base_uri": "https://localhost:8080/",
          "height": 35
        }
      },
      "source": [
        "pwd"
      ],
      "execution_count": 12,
      "outputs": [
        {
          "output_type": "execute_result",
          "data": {
            "application/vnd.google.colaboratory.intrinsic+json": {
              "type": "string"
            },
            "text/plain": [
              "'/content'"
            ]
          },
          "metadata": {
            "tags": []
          },
          "execution_count": 12
        }
      ]
    },
    {
      "cell_type": "code",
      "metadata": {
        "id": "6gROqQRflS5h",
        "outputId": "deb83cb5-d51e-4fd9-e7c6-0705ad721594",
        "colab": {
          "base_uri": "https://localhost:8080/"
        }
      },
      "source": [
        "!gcc --version"
      ],
      "execution_count": 13,
      "outputs": [
        {
          "output_type": "stream",
          "text": [
            "gcc (Ubuntu 7.5.0-3ubuntu1~18.04) 7.5.0\n",
            "Copyright (C) 2017 Free Software Foundation, Inc.\n",
            "This is free software; see the source for copying conditions.  There is NO\n",
            "warranty; not even for MERCHANTABILITY or FITNESS FOR A PARTICULAR PURPOSE.\n",
            "\n"
          ],
          "name": "stdout"
        }
      ]
    },
    {
      "cell_type": "markdown",
      "metadata": {
        "id": "11T5-jsXlaTy"
      },
      "source": [
        "## GPU disponibile\n",
        "Cerchiamo le proprietà della GPU a disposizione."
      ]
    },
    {
      "cell_type": "code",
      "metadata": {
        "id": "wHyc-UVElVX-",
        "outputId": "2289aa38-7404-46b9-ffb8-66a03a847442",
        "colab": {
          "base_uri": "https://localhost:8080/"
        }
      },
      "source": [
        "!nvidia-smi"
      ],
      "execution_count": 14,
      "outputs": [
        {
          "output_type": "stream",
          "text": [
            "Mon Nov  2 15:32:31 2020       \n",
            "+-----------------------------------------------------------------------------+\n",
            "| NVIDIA-SMI 455.32.00    Driver Version: 418.67       CUDA Version: 10.1     |\n",
            "|-------------------------------+----------------------+----------------------+\n",
            "| GPU  Name        Persistence-M| Bus-Id        Disp.A | Volatile Uncorr. ECC |\n",
            "| Fan  Temp  Perf  Pwr:Usage/Cap|         Memory-Usage | GPU-Util  Compute M. |\n",
            "|                               |                      |               MIG M. |\n",
            "|===============================+======================+======================|\n",
            "|   0  Tesla T4            Off  | 00000000:00:04.0 Off |                    0 |\n",
            "| N/A   32C    P8    10W /  70W |      0MiB / 15079MiB |      0%      Default |\n",
            "|                               |                      |                 ERR! |\n",
            "+-------------------------------+----------------------+----------------------+\n",
            "                                                                               \n",
            "+-----------------------------------------------------------------------------+\n",
            "| Processes:                                                                  |\n",
            "|  GPU   GI   CI        PID   Type   Process name                  GPU Memory |\n",
            "|        ID   ID                                                   Usage      |\n",
            "|=============================================================================|\n",
            "|  No running processes found                                                 |\n",
            "+-----------------------------------------------------------------------------+\n"
          ],
          "name": "stdout"
        }
      ]
    },
    {
      "cell_type": "code",
      "metadata": {
        "id": "DFz_n5uylqJm",
        "outputId": "dcf7e486-f17a-4f8a-caf6-72c5e247b74b",
        "colab": {
          "base_uri": "https://localhost:8080/"
        }
      },
      "source": [
        "import pycuda.driver as drv\n",
        "drv.init()\n",
        "print(f\"Driver version: {'.'.join(map(str, drv.get_version()))}\")\n",
        "print(f\"We have {drv.Device.count()} GPUs\")\n",
        "devs = [drv.Device(i) for i in range(drv.Device.count())]\n",
        "for i, dev in enumerate(devs):\n",
        "  print(f\"GPU #{i}: {dev.name()}\")\n",
        "  print(f\"  Compute capability: {'.'.join(map(str, dev.compute_capability()))}\")\n",
        "  print(f\"  Total memory: {dev.total_memory()/(2**30):.3f} GB\")\n"
      ],
      "execution_count": 18,
      "outputs": [
        {
          "output_type": "stream",
          "text": [
            "Driver version: 10.1.0\n",
            "We have 1 GPUs\n",
            "GPU #0: Tesla T4\n",
            "  Compute capability: 7.5\n",
            "  Total memory: 14.726 GB\n"
          ],
          "name": "stdout"
        }
      ]
    },
    {
      "cell_type": "markdown",
      "metadata": {
        "id": "NF-D-r03nleO"
      },
      "source": [
        "## Codice in C\n",
        "Esempio di generazione di codice in C"
      ]
    },
    {
      "cell_type": "code",
      "metadata": {
        "id": "9Wl6P1kZnisi",
        "outputId": "f93e0b97-9498-4539-9c50-dfa99529af52",
        "colab": {
          "base_uri": "https://localhost:8080/"
        }
      },
      "source": [
        "%%writefile vecadd.cu\n",
        "#include <stdio.h>\n",
        "#include <cuda_runtime.h>\n",
        "\n",
        "__global__ void vector_add(const float *a, const float *b, float *c, int n) {\n",
        "    int i = threadIdx.x + blockDim.x * blockIdx.x;\n",
        "    if (i < n)\n",
        "        c[i] = a[i] + b[i];\n",
        "}\n",
        "\n",
        "int main(void) {\n",
        "    int n = 15;\n",
        "    size_t size = n * sizeof(float);\n",
        "    float h_a[n], h_b[n], h_c[n];\n",
        "    float *d_a, *d_b, *d_c;\n",
        "    cudaMalloc((void**)&d_a, size);\n",
        "    cudaMalloc((void**)&d_b, size);\n",
        "    cudaMalloc((void**)&d_c, size);\n",
        "\n",
        "    for (int i = 0; i < n; i++) {\n",
        "        h_a[i] = i * i / 2.3f;\n",
        "        h_b[i] = i;\n",
        "    }\n",
        "    cudaMemcpy(d_a, h_a, size, cudaMemcpyHostToDevice);\n",
        "    cudaMemcpy(d_b, h_b, size, cudaMemcpyHostToDevice);\n",
        "    \n",
        "    int nthr = 256;\n",
        "    int nblk = (n + nthr - 1) / nthr; // Ceiling integer division\n",
        "    vector_add<<<nblk,nthr>>>(d_a, d_b, d_c, n);\n",
        "\n",
        "    cudaMemcpy(h_c, d_c, size, cudaMemcpyDeviceToHost);\n",
        "    for (int i = 0; i < n; i++)\n",
        "        printf(\"%10.6g + %10.6g = %10.6g\\n\", h_a[i], h_b[i], h_c[i]);\n",
        "\n",
        "    cudaFree(d_a); cudaFree(d_b); cudaFree(d_c);\n",
        "    return 0;\n",
        "}"
      ],
      "execution_count": 49,
      "outputs": [
        {
          "output_type": "stream",
          "text": [
            "Overwriting vecadd.cu\n"
          ],
          "name": "stdout"
        }
      ]
    },
    {
      "cell_type": "code",
      "metadata": {
        "id": "UyQdpK9gp1xX",
        "outputId": "5b8b0cc8-1fea-44ad-f15e-690d3de1b516",
        "colab": {
          "base_uri": "https://localhost:8080/"
        }
      },
      "source": [
        "ls"
      ],
      "execution_count": 21,
      "outputs": [
        {
          "output_type": "stream",
          "text": [
            "\u001b[0m\u001b[01;34msample_data\u001b[0m/  vecadd.cu\n"
          ],
          "name": "stdout"
        }
      ]
    },
    {
      "cell_type": "code",
      "metadata": {
        "id": "uHlzme95p2Va"
      },
      "source": [
        "!nvcc -o vecadd vecadd.cu"
      ],
      "execution_count": 50,
      "outputs": []
    },
    {
      "cell_type": "code",
      "metadata": {
        "id": "nnVbxbIwqJ29",
        "outputId": "084cc3a6-c933-4d8a-87ad-61a30218a949",
        "colab": {
          "base_uri": "https://localhost:8080/"
        }
      },
      "source": [
        "ls"
      ],
      "execution_count": 25,
      "outputs": [
        {
          "output_type": "stream",
          "text": [
            "\u001b[0m\u001b[01;34msample_data\u001b[0m/  \u001b[01;32mvecadd\u001b[0m*  vecadd.cu\n"
          ],
          "name": "stdout"
        }
      ]
    },
    {
      "cell_type": "code",
      "metadata": {
        "id": "B3VOjP2ZqX-C",
        "outputId": "fa9dda95-c53d-4b15-bc6a-944e1358ac0c",
        "colab": {
          "base_uri": "https://localhost:8080/"
        }
      },
      "source": [
        "!./vecadd"
      ],
      "execution_count": 52,
      "outputs": [
        {
          "output_type": "stream",
          "text": [
            "         0 +          0 =          0\n",
            "  0.434783 +          1 =    1.43478\n",
            "   1.73913 +          2 =    3.73913\n",
            "   3.91304 +          3 =    6.91304\n",
            "   6.95652 +          4 =    10.9565\n",
            "   10.8696 +          5 =    15.8696\n",
            "   15.6522 +          6 =    21.6522\n",
            "   21.3043 +          7 =    28.3043\n",
            "   27.8261 +          8 =    35.8261\n",
            "   35.2174 +          9 =    44.2174\n",
            "   43.4783 +         10 =    53.4783\n",
            "   52.6087 +         11 =    63.6087\n",
            "   62.6087 +         12 =    74.6087\n",
            "   73.4783 +         13 =    86.4783\n",
            "   85.2174 +         14 =    99.2174\n"
          ],
          "name": "stdout"
        }
      ]
    },
    {
      "cell_type": "markdown",
      "metadata": {
        "id": "N7acSfS2uTrw"
      },
      "source": [
        "## Codice in Python con pycuda"
      ]
    },
    {
      "cell_type": "code",
      "metadata": {
        "id": "FEmwd8beqb5V"
      },
      "source": [
        "import pycuda.autoinit  # Questo è comodo"
      ],
      "execution_count": 54,
      "outputs": []
    },
    {
      "cell_type": "code",
      "metadata": {
        "id": "ZGiPfJ47uw_3",
        "outputId": "1d845842-a001-407e-c6b1-6f5322a5166f",
        "colab": {
          "base_uri": "https://localhost:8080/"
        }
      },
      "source": [
        "from pycuda import gpuarray\n",
        "import numpy as np\n",
        "\n",
        "aux = list(range(15))\n",
        "a = np.array(aux, np.float32)\n",
        "b = a ** 2 / 2.3\n",
        "c = np.empty_like(a)\n",
        "\n",
        "a_gpu = gpuarray.to_gpu(a)  # Allocazione + memcpy\n",
        "b_gpu = gpuarray.to_gpu(b)\n",
        "c_gpu = gpuarray.empty_like(a_gpu)\n",
        "\n",
        "c_gpu = a_gpu + b_gpu  # Meotod semplice: il kernel per la somma è già definito\n",
        "print(repr(c_gpu))"
      ],
      "execution_count": 57,
      "outputs": [
        {
          "output_type": "stream",
          "text": [
            "array([ 0.       ,  1.4347826,  3.7391305,  6.9130435, 10.956522 ,\n",
            "       15.869565 , 21.652174 , 28.304348 , 35.826088 , 44.217392 ,\n",
            "       53.47826  , 63.608696 , 74.608696 , 86.478264 , 99.21739  ],\n",
            "      dtype=float32)\n"
          ],
          "name": "stdout"
        }
      ]
    },
    {
      "cell_type": "code",
      "metadata": {
        "id": "EiQ6VujevqRJ",
        "outputId": "bfe8097b-885b-4c08-936f-8c9835b064a4",
        "colab": {
          "base_uri": "https://localhost:8080/"
        }
      },
      "source": [
        "# Metodo per le operazioni più complesse, o per fare più operazioni alla volta\n",
        "from pycuda.elementwise import ElementwiseKernel\n",
        "my_cuda_func = ElementwiseKernel(arguments=\"float *a, float *b, float *c\",\n",
        "                                 operation=\"c[i] = a[i] + b[i]\",\n",
        "                                 name=\"my_sum_kernel\")\n",
        "c_gpu = gpuarray.empty_like(a_gpu)\n",
        "my_cuda_func(a_gpu, b_gpu, c_gpu)\n",
        "print(repr(c_gpu))"
      ],
      "execution_count": 58,
      "outputs": [
        {
          "output_type": "stream",
          "text": [
            "array([ 0.       ,  1.4347826,  3.7391305,  6.9130435, 10.956522 ,\n",
            "       15.869565 , 21.652174 , 28.304348 , 35.826088 , 44.217392 ,\n",
            "       53.47826  , 63.608696 , 74.608696 , 86.478264 , 99.21739  ],\n",
            "      dtype=float32)\n"
          ],
          "name": "stdout"
        }
      ]
    },
    {
      "cell_type": "code",
      "metadata": {
        "id": "r24Un4WdwUtz",
        "outputId": "27761939-3699-439c-bc49-55bbdde3c108",
        "colab": {
          "base_uri": "https://localhost:8080/"
        }
      },
      "source": [
        "c_gpu.get() == a + b"
      ],
      "execution_count": 60,
      "outputs": [
        {
          "output_type": "execute_result",
          "data": {
            "text/plain": [
              "array([ True,  True,  True,  True,  True,  True,  True,  True,  True,\n",
              "        True,  True,  True,  True,  True,  True])"
            ]
          },
          "metadata": {
            "tags": []
          },
          "execution_count": 60
        }
      ]
    },
    {
      "cell_type": "code",
      "metadata": {
        "id": "mEj379sWwleB",
        "outputId": "911be4e8-2c62-429f-9174-3fbcecccc0f6",
        "colab": {
          "base_uri": "https://localhost:8080/"
        }
      },
      "source": [
        "print(type(c_gpu.get()))\n",
        "print(type(c_gpu))"
      ],
      "execution_count": 64,
      "outputs": [
        {
          "output_type": "stream",
          "text": [
            "<class 'numpy.ndarray'>\n",
            "<class 'pycuda.gpuarray.GPUArray'>\n"
          ],
          "name": "stdout"
        }
      ]
    },
    {
      "cell_type": "code",
      "metadata": {
        "id": "6Dpxh59xwtga"
      },
      "source": [
        "# Un altro metodo ancora: compilazione runtime / JIT\n",
        "from pycuda.compiler import SourceModule\n",
        "with open('vecadd.cu') as ifs:\n",
        "  cuda_code = ifs.read()\n",
        "# Qui a volta il compilatore si lamenta e tira fuori un warning\n",
        "my_cuda_module = SourceModule(cuda_code)"
      ],
      "execution_count": 66,
      "outputs": []
    },
    {
      "cell_type": "code",
      "metadata": {
        "id": "5-uQ_r87xVJe",
        "outputId": "dfb14171-ee1e-4826-f0bf-3fd56a731146",
        "colab": {
          "base_uri": "https://localhost:8080/"
        }
      },
      "source": [
        "imported_kernel = my_cuda_module.get_function(\"vector_add\")\n",
        "n_thr, n_blk, n_grd = 256, 1, 1\n",
        "c_gpu = gpuarray.empty_like(a_gpu)\n",
        "print(c_gpu.gpudata)  # Si può estrarre il puntatore"
      ],
      "execution_count": 68,
      "outputs": [
        {
          "output_type": "stream",
          "text": [
            "<pycuda._driver.DeviceAllocation object at 0x7fe1142890d0>\n"
          ],
          "name": "stdout"
        }
      ]
    },
    {
      "cell_type": "code",
      "metadata": {
        "id": "e1Odmh-6xh4X",
        "outputId": "8da35de5-b7be-4a43-abbd-c96cfcc23052",
        "colab": {
          "base_uri": "https://localhost:8080/",
          "height": 384
        }
      },
      "source": [
        "# vector_add<<<nblk,nthr>>>(d_a, d_b, d_c, n);\n",
        "# Qui c'è un problema a passare un intero...\n",
        "imported_kernel(a_gpu.gpudata, b_gpu.gpudata, c_gpu.gpudata, len(a_gpu),\n",
        "                block=(n_thr, n_blk, n_grd))\n",
        "c_gpu"
      ],
      "execution_count": 96,
      "outputs": [
        {
          "output_type": "error",
          "ename": "ArgumentError",
          "evalue": "ignored",
          "traceback": [
            "\u001b[0;31m---------------------------------------------------------------------------\u001b[0m",
            "\u001b[0;31mArgumentError\u001b[0m                             Traceback (most recent call last)",
            "\u001b[0;32m<ipython-input-96-6b942c42c061>\u001b[0m in \u001b[0;36m<module>\u001b[0;34m()\u001b[0m\n\u001b[1;32m      2\u001b[0m \u001b[0;31m# Qui c'è un problema a passare un intero...\u001b[0m\u001b[0;34m\u001b[0m\u001b[0;34m\u001b[0m\u001b[0;34m\u001b[0m\u001b[0m\n\u001b[1;32m      3\u001b[0m imported_kernel(a_gpu.gpudata, b_gpu.gpudata, c_gpu.gpudata, len(a_gpu),\n\u001b[0;32m----> 4\u001b[0;31m                 block=(n_thr, n_blk, n_grd))\n\u001b[0m\u001b[1;32m      5\u001b[0m \u001b[0mc_gpu\u001b[0m\u001b[0;34m\u001b[0m\u001b[0;34m\u001b[0m\u001b[0m\n",
            "\u001b[0;32m/usr/local/lib/python3.6/dist-packages/pycuda/driver.py\u001b[0m in \u001b[0;36mfunction_call\u001b[0;34m(func, *args, **kwargs)\u001b[0m\n\u001b[1;32m    434\u001b[0m             \u001b[0;32mraise\u001b[0m \u001b[0mValueError\u001b[0m\u001b[0;34m(\u001b[0m\u001b[0;34m\"must specify block size\"\u001b[0m\u001b[0;34m)\u001b[0m\u001b[0;34m\u001b[0m\u001b[0;34m\u001b[0m\u001b[0m\n\u001b[1;32m    435\u001b[0m \u001b[0;34m\u001b[0m\u001b[0m\n\u001b[0;32m--> 436\u001b[0;31m         \u001b[0mfunc\u001b[0m\u001b[0;34m.\u001b[0m\u001b[0m_set_block_shape\u001b[0m\u001b[0;34m(\u001b[0m\u001b[0;34m*\u001b[0m\u001b[0mblock\u001b[0m\u001b[0;34m)\u001b[0m\u001b[0;34m\u001b[0m\u001b[0;34m\u001b[0m\u001b[0m\n\u001b[0m\u001b[1;32m    437\u001b[0m         \u001b[0mhandlers\u001b[0m\u001b[0;34m,\u001b[0m \u001b[0marg_buf\u001b[0m \u001b[0;34m=\u001b[0m \u001b[0m_build_arg_buf\u001b[0m\u001b[0;34m(\u001b[0m\u001b[0margs\u001b[0m\u001b[0;34m)\u001b[0m\u001b[0;34m\u001b[0m\u001b[0;34m\u001b[0m\u001b[0m\n\u001b[1;32m    438\u001b[0m \u001b[0;34m\u001b[0m\u001b[0m\n",
            "\u001b[0;31mArgumentError\u001b[0m: Python argument types in\n    Function._set_block_shape(Function, tuple, tuple, int)\ndid not match C++ signature:\n    _set_block_shape(pycuda::function {lvalue}, int, int, int)"
          ]
        }
      ]
    },
    {
      "cell_type": "markdown",
      "metadata": {
        "id": "g984Z4CDzAJK"
      },
      "source": [
        "## Somma di matrici"
      ]
    },
    {
      "cell_type": "code",
      "metadata": {
        "id": "0BDOwLkTyTFx"
      },
      "source": [
        "import numpy as np\n",
        "import pycuda.autoinit\n",
        "from pycuda import gpuarray\n",
        "\n",
        "SZ = 512\n",
        "\n",
        "a_cpu = np.random.random((SZ, SZ)).astype(np.float32)\n",
        "b_cpu = np.random.random((SZ, SZ)).astype(np.float32)\n",
        "c_cpu = np.empty_like(a_cpu)"
      ],
      "execution_count": 77,
      "outputs": []
    },
    {
      "cell_type": "code",
      "metadata": {
        "id": "m_USVYI1zic7",
        "outputId": "2b2ea941-e061-4f87-ff3a-9a71a7fcc0b3",
        "colab": {
          "base_uri": "https://localhost:8080/",
          "height": 286
        }
      },
      "source": [
        "%matplotlib inline\n",
        "import matplotlib.pyplot as plt\n",
        "plt.imshow(a_cpu)\n",
        "plt.colorbar()"
      ],
      "execution_count": 78,
      "outputs": [
        {
          "output_type": "execute_result",
          "data": {
            "text/plain": [
              "<matplotlib.colorbar.Colorbar at 0x7fe111d1d748>"
            ]
          },
          "metadata": {
            "tags": []
          },
          "execution_count": 78
        },
        {
          "output_type": "display_data",
          "data": {
            "image/png": "[encoded data removed]",
            "text/plain": [
              "<Figure size 432x288 with 2 Axes>"
            ]
          },
          "metadata": {
            "tags": [],
            "needs_background": "light"
          }
        }
      ]
    },
    {
      "cell_type": "code",
      "metadata": {
        "id": "h_0osmzOzp0h"
      },
      "source": [
        "a_gpu = gpuarray.to_gpu(a_cpu)\n",
        "b_gpu = gpuarray.to_gpu(b_cpu)\n",
        "c_gpu = gpuarray.to_gpu(c_cpu)"
      ],
      "execution_count": 79,
      "outputs": []
    },
    {
      "cell_type": "code",
      "metadata": {
        "id": "nnjQZPaGz8m2",
        "outputId": "1b99b969-c72f-40f2-a9f9-53b7f914ebdc",
        "colab": {
          "base_uri": "https://localhost:8080/"
        }
      },
      "source": [
        "%timeit c_cpu = a_cpu + b_cpu"
      ],
      "execution_count": 80,
      "outputs": [
        {
          "output_type": "stream",
          "text": [
            "10000 loops, best of 3: 163 µs per loop\n"
          ],
          "name": "stdout"
        }
      ]
    },
    {
      "cell_type": "code",
      "metadata": {
        "id": "wWoRd3Pd0MlJ",
        "outputId": "283b9d1c-0512-4b38-f502-a6fd0244a390",
        "colab": {
          "base_uri": "https://localhost:8080/"
        }
      },
      "source": [
        "from pycuda.compiler import SourceModule\n",
        "cuda_kernel = \"\"\"\n",
        "__global__ void matrix_add(float *a, float *b, float *c) {\n",
        "    int ix = blockDim.x * blockIdx.x + threadIdx.x;\n",
        "    int iy = blockDim.y * blockIdx.y + threadIdx.y;\n",
        "    int ib = gridDim.x * blockDim.x * ix + iy;\n",
        "    c[ib] = a[ib] + b[ib];\n",
        "}\n",
        "\"\"\"\n",
        "my_code = SourceModule(cuda_kernel)\n",
        "matrix_add = my_code.get_function(\"matrix_add\")\n",
        "type(matrix_add)"
      ],
      "execution_count": 83,
      "outputs": [
        {
          "output_type": "execute_result",
          "data": {
            "text/plain": [
              "pycuda._driver.Function"
            ]
          },
          "metadata": {
            "tags": []
          },
          "execution_count": 83
        }
      ]
    },
    {
      "cell_type": "code",
      "metadata": {
        "id": "6l0iLU9c1ADX",
        "outputId": "e45e1dfe-3aa9-4ecc-f2ae-30264ad4f7e2",
        "colab": {
          "base_uri": "https://localhost:8080/"
        }
      },
      "source": [
        "# Dividiamo la matrice 512x512 in 16x16 blocchi da 32x32\n",
        "n_thr = (32, 32, 1)\n",
        "n_blk = (16, 16, 1)\n",
        "matrix_add(a_gpu, b_gpu, c_gpu, block=n_thr, grid=n_blk)\n",
        "\n",
        "# Test\n",
        "c_cpu = a_cpu + b_cpu\n",
        "test = c_gpu.get() / c_cpu \n",
        "print(test)\n",
        "print(np.count_nonzero(test != 1))"
      ],
      "execution_count": 88,
      "outputs": [
        {
          "output_type": "stream",
          "text": [
            "[[1. 1. 1. ... 1. 1. 1.]\n",
            " [1. 1. 1. ... 1. 1. 1.]\n",
            " [1. 1. 1. ... 1. 1. 1.]\n",
            " ...\n",
            " [1. 1. 1. ... 1. 1. 1.]\n",
            " [1. 1. 1. ... 1. 1. 1.]\n",
            " [1. 1. 1. ... 1. 1. 1.]]\n",
            "0\n"
          ],
          "name": "stdout"
        }
      ]
    },
    {
      "cell_type": "code",
      "metadata": {
        "id": "R0s4UMM41ynI",
        "outputId": "f76024a6-36f1-44a4-edc9-e5c1b87765f4",
        "colab": {
          "base_uri": "https://localhost:8080/"
        }
      },
      "source": [
        "%timeit matrix_add(a_gpu, b_gpu, c_gpu, block=n_thr, grid=n_blk)"
      ],
      "execution_count": 89,
      "outputs": [
        {
          "output_type": "stream",
          "text": [
            "The slowest run took 6.69 times longer than the fastest. This could mean that an intermediate result is being cached.\n",
            "10000 loops, best of 3: 34.9 µs per loop\n"
          ],
          "name": "stdout"
        }
      ]
    },
    {
      "cell_type": "code",
      "metadata": {
        "id": "Mmw7nBu22NJu"
      },
      "source": [
        "# In realtà c'è un metodo migliore\n",
        "matrix_add.prepare(\"PPP\")\n",
        "matrix_add.prepared_call(n_blk, n_thr,\n",
        "                         a_gpu.gpudata, b_gpu.gpudata, c_gpu.gpudata)"
      ],
      "execution_count": 90,
      "outputs": []
    },
    {
      "cell_type": "code",
      "metadata": {
        "id": "azYapTEA2kad",
        "outputId": "22e00444-7c62-4ed7-bc90-e7cd6a5a9a11",
        "colab": {
          "base_uri": "https://localhost:8080/"
        }
      },
      "source": [
        "# Questo fa comodo per misurare il tempo GPU in maniera diretta\n",
        "delta_t = matrix_add.prepared_timed_call(n_blk, n_thr,\n",
        "                                         a_gpu.gpudata, b_gpu.gpudata,\n",
        "                                         c_gpu.gpudata)\n",
        "print(f\"Time = {delta_t()*1e6:.3f} us\")"
      ],
      "execution_count": 93,
      "outputs": [
        {
          "output_type": "stream",
          "text": [
            "Time = 137.600 us\n"
          ],
          "name": "stdout"
        }
      ]
    },
    {
      "cell_type": "code",
      "metadata": {
        "id": "TVyAz-i-25RJ",
        "outputId": "3923f427-175f-4fde-df5a-cb8b701a14a1",
        "colab": {
          "base_uri": "https://localhost:8080/",
          "height": 286
        }
      },
      "source": [
        "plt.imshow(c_gpu.get() - c_cpu, interpolation='none')\n",
        "plt.colorbar()"
      ],
      "execution_count": 95,
      "outputs": [
        {
          "output_type": "execute_result",
          "data": {
            "text/plain": [
              "<matplotlib.colorbar.Colorbar at 0x7fe0f9c95278>"
            ]
          },
          "metadata": {
            "tags": []
          },
          "execution_count": 95
        },
        {
          "output_type": "display_data",
          "data": {
            "image/png": "[encoded data removed]",
            "text/plain": [
              "<Figure size 432x288 with 2 Axes>"
            ]
          },
          "metadata": {
            "tags": [],
            "needs_background": "light"
          }
        }
      ]
    },
    {
      "cell_type": "markdown",
      "metadata": {
        "id": "wyZr1oLA3bPD"
      },
      "source": [
        "## Prodotto di matrici\n",
        "*Qui è finito il tempo della lezione.*\n",
        "\n",
        "Il prof. Lamanna ci fa vedere che, eseguendo la moltiplicazione fra le matrici di prima in maniera analoga (si usa un kernel in cui ogni thread calcola un elemento diverso della matrice-risultato, così non ci sono race conditions) ci sono delle differenze tra il risultato della CPU e quello della GPU.\n",
        "\n",
        "Questo non è un problema di GPU, ma un problema di processori diversi: nella moltiplicazione di numeri piccoli (che richiede molta precisione) processori diversi possono usare approssimazioni diverse.\n",
        "\n",
        "Si può migliorare il risultato (ma non azzerare le differenza) utilizzando numeri in doppia precisione."
      ]
    },
    {
      "cell_type": "markdown",
      "metadata": {
        "id": "7loIXCSy5kxS"
      },
      "source": [
        "## Guadagno in tempo\n",
        "*Sempre frettolosamente.*\n",
        "\n",
        "Vediamo la differenza in tempo della somma di vettori random di dimensioni diverse."
      ]
    },
    {
      "cell_type": "code",
      "metadata": {
        "id": "SlfqTRNd4jBn"
      },
      "source": [
        ""
      ],
      "execution_count": null,
      "outputs": []
    }
  ]
}