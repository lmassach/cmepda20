{
 "cells": [
  {
   "cell_type": "markdown",
   "metadata": {},
   "source": [
    "# Numerical Optimization\n",
    "Seminario di Lorenzo Bianchini, parte 2 (10/12/2020)."
   ]
  },
  {
   "attachments": {},
   "cell_type": "markdown",
   "metadata": {},
   "source": [
    "## Esempio in ROOT (C++)\n",
    "```C++\n",
    "// Definiamo f0 come costante scalare, g come vettore NDIM costante\n",
    "// e B come matrice NDIMxNDIM costante. Anche NDIM è una costante.\n",
    "\n",
    "double quadratic(const double *xx) {\n",
    "    TVectorD x(NDIM, xx);\n",
    "    return f0 + g * x + 0.5 * x * (B * x);\n",
    "}\n",
    "\n",
    "ROOT::Math::Minimizer *minimum = ROOT::Math::Factory::CreateMinimizer(\n",
    "    \"minimizer_name\", // Es. \"Minuit2\", \"GSLMultiMin\", ...\n",
    "    \"algo_name\" // Es. \"migrad\", \"conjugatefr\"\n",
    ");\n",
    "// Nota: qui sopra GSL sta per GNU Scientific Library\n",
    "minimum->SetMaxFunctionCalls(10000);\n",
    "minimum->SetTolerance(0.001);\n",
    "\n",
    "ROOT::Math::Functor f(&quadratic, NDIM);\n",
    "minimum->SetFunction(f);\n",
    "\n",
    "double step[NDIM], start[NDIM];\n",
    "for (int i = 0; i < NDIM; i++) {\n",
    "    step[i] = 0.01;\n",
    "    minimum->SetVariable(i, Form(\"x%d\", i), start[i], step[i]);\n",
    "}\n",
    "\n",
    "minimum->Minimize(); // Qui avviene la \"magia\"\n",
    "const double *xs = minimum->X();\n",
    "double *cov[NDIM*NDIM];\n",
    "minimum->GetCovMat(cov);\n",
    "```\n",
    "\n",
    "Nota: la funzione `quadratic` restituisce la forma quadratica\n",
    "$$f_0+g_ix_i+\\frac{1}{2}x_iB_{ij}x_j$$"
   ]
  },
  {
   "cell_type": "markdown",
   "metadata": {},
   "source": [
    "## Esempio in scipy (Python)\n",
    "```python\n",
    "def quadratic(x, args):\n",
    "    return ...  # Operazioni con numpy\n",
    "\n",
    "\n",
    "# Dove method può essere, ad es., \"BFGS\"\n",
    "res = scipy.optimize.minimize(\n",
    "    fun=quadratic, x0=..., args=..., method=\"...\"\n",
    ")\n",
    "```"
   ]
  },
  {
   "cell_type": "markdown",
   "metadata": {},
   "source": [
    "## Esercizi\n",
    "Dati in `SNS_DAS` scaricati da [qui](https://github.com/bianchini/SNS_DAS/archive/master.zip).\n",
    "\n",
    "È richiesta la libreria GSL (GNU Scientific Library): su Ubuntu c'è il pacchetto apt `libgsl-dev` (è uno dei pacchetti opzionali consigliati di ROOT)."
   ]
  },
  {
   "cell_type": "code",
   "execution_count": 1,
   "metadata": {},
   "outputs": [
    {
     "name": "stdout",
     "output_type": "stream",
     "text": [
      "Welcome to JupyROOT 6.22/06\n",
      "/mnt/d/mslud/home/git/cmepda20/hep_cpp/SNS_DAS\n"
     ]
    }
   ],
   "source": [
    "import ROOT\n",
    "%jsroot off\n",
    "%cd SNS_DAS"
   ]
  },
  {
   "cell_type": "markdown",
   "metadata": {},
   "source": [
    "### minimizer.C\n",
    "Qui definiamo una matrice di Hilbert, che è ill-conditioned (il rapporto tra l'autovalore massimo e quello minimo è molto grande, cioè è una forma quadratica molto \"allungata\", in sostanza una che dà problemi nel calcolo numerico).\n",
    "\n",
    "Definiamo una funzione quadratica e una Rosenbrock, che è un'altra funzione brutta ma standard di algebra lineare.\n",
    "\n",
    "Definiamo una funzione `minimizer` che istanzia un minimizzatore e inizializza i parametri (per tagliare corto).\n",
    "Questa ci stampa:\n",
    " - il determinante della matrice;\n",
    " - il vettore degli autovalori;\n",
    " - la matrice degli autovettori;\n",
    " - la definizione positiva/negativa/nessuna della matrice;\n",
    " - il condition number (rapporto tra autovalore massimo e minimo);\n",
    " - l'output del `ROOT::Math::Minimizer`;\n",
    " - il risultato ottenuto applicando la funzione ai parametri ottimali trovati;\n",
    " - l'integrale della funzione su ???"
   ]
  },
  {
   "cell_type": "code",
   "execution_count": 2,
   "metadata": {
    "scrolled": true
   },
   "outputs": [
    {
     "name": "stdout",
     "output_type": "stream",
     "text": [
      "Determinant of B: 1.65344e-07\n",
      "\n",
      "Vector (4)  is as follows\n",
      "\n",
      "     |        1  |\n",
      "------------------\n",
      "   0 |1.50021 \n",
      "   1 |0.169141 \n",
      "   2 |0.00673827 \n",
      "   3 |9.67023e-05 \n",
      "\n",
      "\n",
      "4x4 matrix is as follows\n",
      "\n",
      "     |      0    |      1    |      2    |      3    |\n",
      "---------------------------------------------------------\n",
      "   0 |    -0.7926     -0.5821      0.1792    -0.02919 \n",
      "   1 |    -0.4519      0.3705     -0.7419      0.3287 \n",
      "   2 |    -0.3224      0.5096      0.1002     -0.7914 \n",
      "   3 |    -0.2522       0.514      0.6383      0.5146 \n",
      "\n",
      "Matrix is positive definite\n",
      "Condition number is: 15513.7\n",
      " **********\n",
      " **    1 **SET PRINT           0\n",
      " **********\n",
      " **********\n",
      " **    2 **SET NOGRAD\n",
      " **********\n",
      " PARAMETER DEFINITIONS:\n",
      "    NO.   NAME         VALUE      STEP SIZE      LIMITS\n",
      "     1 x0          -1.00000e+00  1.00000e-02     no limits\n",
      "     2 x1          -1.00000e+00  1.00000e-02     no limits\n",
      "     3 x2          -1.00000e+00  1.00000e-02     no limits\n",
      "     4 x3          -1.00000e+00  1.00000e-02     no limits\n",
      " **********\n",
      " **    3 **SET ERR           1\n",
      " **********\n",
      " **********\n",
      " **    4 **SET PRINT           0\n",
      " **********\n",
      " **********\n",
      " **    5 **SET STR           1\n",
      " **********\n",
      " **********\n",
      " **    6 **MIGRAD       1e+06       0.001\n",
      " **********\n",
      " MIGRAD MINIMIZATION HAS CONVERGED.\n",
      " MIGRAD WILL VERIFY CONVERGENCE AND ERROR MATRIX.\n",
      " FCN=-125.486 FROM MIGRAD    STATUS=CONVERGED     103 CALLS         104 TOTAL\n",
      "                     EDM=2.12412e-14    STRATEGY= 1      ERROR MATRIX ACCURATE \n",
      "  EXT PARAMETER                                   STEP         FIRST   \n",
      "  NO.   NAME      VALUE            ERROR          SIZE      DERIVATIVE \n",
      "   1  x0          -3.96932e+01   5.65503e+00   7.76615e-03   2.09517e-09\n",
      "   2  x1           4.76978e+02   4.89648e+01   1.34514e-02  -3.01092e-09\n",
      "   3  x2          -1.22277e+03   1.13782e+02   1.73656e-02   2.33225e-09\n",
      "   4  x3           8.32706e+02   7.47961e+01   2.05473e-02   3.07770e-09\n",
      "\n",
      "NUMERICAL:  f(-39.6932,476.978,-1222.77,832.706,): -125.486\n",
      "ANALYTICAL: f(-39.6932,476.978,-1222.77,832.706,): -125.486\n",
      "VEGAS: integral result is: 20.4703\n",
      "ADAPTIVE: integral result is: 20.4698\n",
      "PLAIN: integral result is: 20.4368\n"
     ]
    }
   ],
   "source": [
    "with open(\"minimizer.C\") as ifs:\n",
    "    ROOT.gInterpreter.Declare(ifs.read())  # NDIM = 4\n",
    "ROOT.minimizer(\"Minuit\", \"Migrad\", \"Quadratic\")"
   ]
  },
  {
   "cell_type": "markdown",
   "metadata": {},
   "source": [
    "### tree.C\n",
    "Un po' di funzioni per scrivere e leggere un `TTree` su/da un `TFile`."
   ]
  },
  {
   "cell_type": "code",
   "execution_count": 3,
   "metadata": {},
   "outputs": [
    {
     "name": "stdout",
     "output_type": "stream",
     "text": [
      "Processing event number 0\n",
      "100 events done in 0.153 seconds\n",
      "100 read in 0.001 seconds\n"
     ]
    },
    {
     "name": "stderr",
     "output_type": "stream",
     "text": [
      "Warning in <TFile::Init>: file tree_C.root probably not closed, trying to recover\n",
      "Info in <TFile::Recover>: tree_C.root, recovered key TTree:tree at address 2571\n",
      "Warning in <TFile::Init>: successfully recovered 1 keys\n"
     ]
    },
    {
     "data": {
      "image/png": "[encoded data removed]",
      "text/plain": [
       "<IPython.core.display.Image object>"
      ]
     },
     "metadata": {},
     "output_type": "display_data"
    }
   ],
   "source": [
    "with open(\"tree.C\") as ifs:\n",
    "    ROOT.gInterpreter.Declare(ifs.read())\n",
    "canvas = ROOT.TCanvas(\"c\", \"c\", 600, 450)\n",
    "ROOT.make_tree()\n",
    "ROOT.read_tree()\n",
    "canvas.Draw()"
   ]
  },
  {
   "cell_type": "markdown",
   "metadata": {},
   "source": [
    "### roofit.py\n",
    "Contiene un esempio in PyROOT della lettura di un dataset (un `RooDataSet` in un file .root) di eventi di $J/\\psi$ più fondo.\n",
    "\n",
    "Lo script:\n",
    " - carica il dataset;\n",
    " - definisce delle variabili (`RooRealVar`) per il fit;\n",
    " - definisce una funzione/forma/PDF `RooCBShape`, che è una Crystal Ball (una gaussiana con la coda destra non gaussiana, che funziona bene empiricamente per la massa invariante di eventi con ISR/FSR);\n",
    " - definisce una funzione gaussiana per la $\\psi(2s)$;\n",
    " - definisce una funzione Chebychev/polinomiale per il fondo;\n",
    " - definisce tre parametri extra per la scala di queste tre distribuzioni;\n",
    " - definisce una formula che è la somma delle tre distribuzioni scalate, ed una PDF totale che è la stessa cosa;\n",
    " - esegue il fit;\n",
    " - plotta;\n",
    " - salva."
   ]
  },
  {
   "cell_type": "code",
   "execution_count": 4,
   "metadata": {},
   "outputs": [
    {
     "name": "stdout",
     "output_type": "stream",
     "text": [
      "\n",
      "\u001b[1mRooFit v3.60 -- Developed by Wouter Verkerke and David Kirkby\u001b[0m \n",
      "                Copyright (C) 2000-2013 NIKHEF, University of California & Stanford University\n",
      "                All rights reserved, please read http://roofit.sourceforge.net/license.txt\n",
      "\n",
      "[#1] INFO:Minization -- RooMinimizer::optimizeConst: activating const optimization\n",
      "[#1] INFO:Minization --  The following expressions will be evaluated in cache-and-track mode: (CBJpsi,gausspsi2S,backgroundPDF)\n",
      " **********\n",
      " **    1 **SET PRINT           1\n",
      " **********\n",
      " **********\n",
      " **    2 **SET NOGRAD\n",
      " **********\n",
      " PARAMETER DEFINITIONS:\n",
      "    NO.   NAME         VALUE      STEP SIZE      LIMITS\n",
      "     1 NJpsi        1.50000e+03  7.49950e+02    1.00000e-01  1.00000e+04\n",
      "     2 Nbkg         5.00000e+03  2.49995e+03    1.00000e-01  5.00000e+04\n",
      "     3 a1          -7.00000e-01  4.00000e-01   -2.00000e+00  2.00000e+00\n",
      "     4 a2           3.00000e-01  4.00000e-01   -2.00000e+00  2.00000e+00\n",
      "     5 a3          -3.00000e-02  4.00000e-01   -2.00000e+00  2.00000e+00\n",
      "     6 alphaJpsi    1.50000e+00  1.00000e+00   -5.00000e+00  5.00000e+00\n",
      "     7 cross_psi    3.00000e+00  1.50000e+00    0.00000e+00  4.00000e+01\n",
      "     8 meanJpsi     3.10000e+00  4.00000e-02    2.80000e+00  3.20000e+00\n",
      "     9 meanpsi2S    3.70000e+00  1.00000e-02    3.65000e+00  3.75000e+00\n",
      "    10 nJpsi        1.50000e+00  4.50000e-01    5.00000e-01  5.00000e+00\n",
      "    11 sigmaJpsi    3.00000e-01  9.99900e-02    1.00000e-04  1.00000e+00\n",
      " **********\n",
      " **    3 **SET ERR         0.5\n",
      " **********\n",
      " **********\n",
      " **    4 **SET PRINT           1\n",
      " **********\n",
      " **********\n",
      " **    5 **SET STR           1\n",
      " **********\n",
      " NOW USING STRATEGY  1: TRY TO BALANCE SPEED AGAINST RELIABILITY\n",
      " **********\n",
      " **    6 **MIGRAD        5500           1\n",
      " **********\n",
      " FIRST CALL TO USER FUNCTION AT NEW START POINT, WITH IFLAG=4.\n",
      " START MIGRAD MINIMIZATION.  STRATEGY  1.  CONVERGENCE WHEN EDM .LT. 1.00e-03\n",
      " FCN=2565.22 FROM MIGRAD    STATUS=INITIATE      138 CALLS         139 TOTAL\n",
      "                     EDM= unknown      STRATEGY= 1      NO ERROR MATRIX       \n",
      "  EXT PARAMETER               CURRENT GUESS       STEP         FIRST   \n",
      "  NO.   NAME      VALUE            ERROR          SIZE      DERIVATIVE \n",
      "   1  NJpsi        1.50000e+03   7.49950e+02   0.00000e+00   3.28120e+03\n",
      "   2  Nbkg         5.00000e+03   2.49995e+03   0.00000e+00   1.38652e+04\n",
      "   3  a1          -7.00000e-01   4.00000e-01   0.00000e+00   3.62318e+01\n",
      "   4  a2           3.00000e-01   4.00000e-01   0.00000e+00   1.30434e+01\n",
      "   5  a3          -3.00000e-02   4.00000e-01   0.00000e+00  -8.36899e+01\n",
      "   6  alphaJpsi    1.50000e+00   1.00000e+00   0.00000e+00   1.08474e+02\n",
      "   7  cross_psi    3.00000e+00   1.50000e+00   0.00000e+00   4.37934e+00\n",
      "   8  meanJpsi     3.10000e+00   4.00000e-02   0.00000e+00   1.36465e+02\n",
      "   9  meanpsi2S    3.65956e+00   1.00000e-02  -6.20207e-01  -7.98035e-03\n",
      "  10  nJpsi        1.50000e+00   4.50000e-01   0.00000e+00   9.22217e+00\n",
      "  11  sigmaJpsi    1.37026e-02   9.99900e-02   0.00000e+00   5.27524e+02\n",
      "                               ERR DEF= 0.5\n",
      " MIGRAD MINIMIZATION HAS CONVERGED.\n",
      " FCN=-2191.47 FROM MIGRAD    STATUS=CONVERGED     786 CALLS         787 TOTAL\n",
      "                     EDM=1.27124e-05    STRATEGY= 1  ERROR MATRIX UNCERTAINTY   3.2 per cent\n",
      "  EXT PARAMETER                                   STEP         FIRST   \n",
      "  NO.   NAME      VALUE            ERROR          SIZE      DERIVATIVE \n",
      "   1  NJpsi        1.55517e+02   2.02216e+01   6.03720e-05  -3.14593e-01\n",
      "   2  Nbkg         3.39829e+02   2.41124e+01   2.94269e-05   2.03970e-01\n",
      "   3  a1          -6.92205e-01   1.08239e-01  -3.25389e-04   6.97162e-03\n",
      "   4  a2           2.88138e-01   8.55484e-02   3.03719e-04  -3.18277e-02\n",
      "   5  a3           1.64009e-02   8.25513e-02  -1.74879e-04  -1.93945e-02\n",
      "   6  alphaJpsi    1.64963e+00   3.76465e-01  -1.11443e-03  -4.68848e-02\n",
      "   7  cross_psi    9.65042e+00   8.25712e+00   6.58545e-04   2.05951e-03\n",
      "   8  meanJpsi     3.09350e+00   3.29584e-03  -7.34498e-05  -1.10311e-02\n",
      "   9  meanpsi2S    3.69547e+00   2.78084e-02   2.52152e-03   8.68709e-04\n",
      "  10  nJpsi        1.36782e+00   9.25414e-01   4.81299e-03  -6.45325e-03\n",
      "  11  sigmaJpsi    3.27209e-02   2.95159e-03  -1.65690e-04   4.49741e-02\n",
      "                               ERR DEF= 0.5\n",
      " EXTERNAL ERROR MATRIX.    NDIM=  25    NPAR= 11    ERR DEF=0.5\n",
      "  4.090e+02 \n",
      " -2.444e+02  5.814e+02 \n",
      "  5.390e-01 -5.130e-01  1.173e-02 \n",
      " -2.940e-01  2.638e-01 -3.041e-03  7.323e-03 \n",
      " -1.716e-01  2.328e-01  4.869e-03 -2.510e-03  6.819e-03 \n",
      "  1.168e+00 -1.064e+00  5.467e-03 -5.547e-03  3.100e-03  1.420e-01 \n",
      "  1.263e+01 -3.711e+01 -5.117e-02  1.361e-01 -1.171e-01 -4.609e-02  7.425e+01 \n",
      "  2.768e-03 -2.402e-03  1.275e-05  5.418e-06 -2.972e-06 -2.696e-05  4.559e-04  1.086e-05 \n",
      "  4.065e-02 -5.500e-02  1.476e-04 -7.959e-05 -8.562e-05  3.972e-04  1.311e-02 -9.631e-07  8.705e-04 \n",
      " -1.160e+01  1.150e+01 -3.241e-02  2.540e-02 -9.758e-04 -2.771e-01 -3.139e-01 -1.519e-04 -1.720e-03  9.476e-01 \n",
      " -9.418e-03  8.131e-03 -9.877e-06 -9.049e-06  2.675e-05 -1.553e-05 -5.850e-04  2.835e-07 -4.367e-06  1.759e-04  8.713e-06 \n",
      " PARAMETER  CORRELATION COEFFICIENTS  \n",
      "       NO.  GLOBAL      1      2      3      4      5      6      7      8      9     10     11\n",
      "        1  0.74884   1.000 -0.501  0.246 -0.170 -0.103  0.153  0.072  0.042  0.068 -0.589 -0.158\n",
      "        2  0.64634  -0.501  1.000 -0.196  0.128  0.117 -0.117 -0.179 -0.030 -0.077  0.490  0.114\n",
      "        3  0.66813   0.246 -0.196  1.000 -0.328  0.544  0.134 -0.055  0.036  0.046 -0.307 -0.031\n",
      "        4  0.51268  -0.170  0.128 -0.328  1.000 -0.355 -0.172  0.185  0.019 -0.032  0.305 -0.036\n",
      "        5  0.67240  -0.103  0.117  0.544 -0.355  1.000  0.100 -0.165 -0.011 -0.035 -0.012  0.110\n",
      "        6  0.87051   0.153 -0.117  0.134 -0.172  0.100  1.000 -0.014 -0.022  0.036 -0.755 -0.014\n",
      "        7  0.28770   0.072 -0.179 -0.055  0.185 -0.165 -0.014  1.000  0.016  0.052 -0.037 -0.023\n",
      "        8  0.12772   0.042 -0.030  0.036  0.019 -0.011 -0.022  0.016  1.000 -0.010 -0.047  0.029\n",
      "        9  0.12455   0.068 -0.077  0.046 -0.032 -0.035  0.036  0.052 -0.010  1.000 -0.060 -0.050\n",
      "       10  0.92681  -0.589  0.490 -0.307  0.305 -0.012 -0.755 -0.037 -0.047 -0.060  1.000  0.061\n",
      "       11  0.22173  -0.158  0.114 -0.031 -0.036  0.110 -0.014 -0.023  0.029 -0.050  0.061  1.000\n",
      " **********\n",
      " **    7 **SET ERR         0.5\n",
      " **********\n",
      " **********\n",
      " **    8 **SET PRINT           1\n",
      " **********\n",
      " **********\n",
      " **    9 **HESSE        5500\n",
      " **********\n",
      " COVARIANCE MATRIX CALCULATED SUCCESSFULLY\n",
      " FCN=-2191.47 FROM HESSE     STATUS=OK            114 CALLS         901 TOTAL\n",
      "                     EDM=2.45452e-05    STRATEGY= 1      ERROR MATRIX ACCURATE \n",
      "  EXT PARAMETER                                INTERNAL      INTERNAL  \n",
      "  NO.   NAME      VALUE            ERROR       STEP SIZE       VALUE   \n",
      "   1  NJpsi        1.55517e+02   1.87992e+01   3.59331e-04  -1.32081e+00\n",
      "   2  Nbkg         3.39829e+02   2.36869e+01   1.52128e-04  -1.40575e+00\n",
      "   3  a1          -6.92205e-01   1.06289e-01   1.38220e-03  -3.53414e-01\n",
      "   4  a2           2.88138e-01   8.49841e-02   1.23336e-03   1.44572e-01\n",
      "   5  a3           1.64009e-02   8.31948e-02   9.97555e-04   8.20053e-03\n",
      "   6  alphaJpsi    1.64963e+00   3.62982e-01   1.44795e-03   3.36226e-01\n",
      "   7  cross_psi    9.65042e+00   7.94308e+00   1.49845e-02  -5.43902e-01\n",
      "   8  meanJpsi     3.09350e+00   3.33141e-03   6.01244e-04   4.86441e-01\n",
      "   9  meanpsi2S    3.69547e+00   2.58759e-02   1.76649e-02  -3.05083e+00\n",
      "  10  nJpsi        1.36782e+00   9.37098e-01   8.63164e-03  -6.61503e-01\n",
      "  11  sigmaJpsi    3.27209e-02   3.03296e-03   5.24668e-04  -1.93403e+00\n",
      "                               ERR DEF= 0.5\n",
      " EXTERNAL ERROR MATRIX.    NDIM=  25    NPAR= 11    ERR DEF=0.5\n",
      "  3.534e+02 \n",
      " -2.040e+02  5.611e+02 \n",
      "  4.241e-01 -4.106e-01  1.131e-02 \n",
      " -1.629e-01  1.019e-01 -2.570e-03  7.227e-03 \n",
      " -1.736e-01  2.271e-01  4.926e-03 -2.616e-03  6.925e-03 \n",
      "  4.799e-01 -4.474e-01  4.590e-03 -4.285e-03  3.736e-03  1.320e-01 \n",
      "  1.324e+01 -3.623e+01 -2.690e-02  1.266e-01 -1.117e-01 -6.391e-02  6.823e+01 \n",
      "  2.699e-03 -2.816e-03  3.249e-06  1.407e-06 -4.828e-06 -4.159e-05  2.523e-04  1.110e-05 \n",
      "  4.052e-03 -6.340e-03  3.981e-07  3.766e-06 -2.589e-05 -3.477e-06  4.824e-03 -3.609e-08  7.404e-04 \n",
      " -9.458e+00  9.601e+00 -3.131e-02  2.019e-02 -4.409e-03 -2.510e-01 -3.277e-01 -9.257e-05 -7.765e-05  9.745e-01 \n",
      " -6.980e-03  7.503e-03  4.281e-06 -1.710e-05  2.773e-05  5.344e-06 -1.095e-03  3.821e-07 -1.966e-06 -1.166e-04  9.200e-06 \n",
      " PARAMETER  CORRELATION COEFFICIENTS  \n",
      "       NO.  GLOBAL      1      2      3      4      5      6      7      8      9     10     11\n",
      "        1  0.68208   1.000 -0.458  0.212 -0.102 -0.111  0.070  0.085  0.043  0.008 -0.510 -0.122\n",
      "        2  0.57802  -0.458  1.000 -0.163  0.051  0.115 -0.052 -0.185 -0.036 -0.010  0.411  0.104\n",
      "        3  0.65661   0.212 -0.163  1.000 -0.284  0.557  0.119 -0.031  0.009  0.000 -0.298  0.013\n",
      "        4  0.46068  -0.102  0.051 -0.284  1.000 -0.370 -0.139  0.180  0.005  0.002  0.241 -0.066\n",
      "        5  0.67128  -0.111  0.115  0.557 -0.370  1.000  0.124 -0.162 -0.017 -0.011 -0.054  0.110\n",
      "        6  0.80564   0.070 -0.052  0.119 -0.139  0.124  1.000 -0.021 -0.034 -0.000 -0.700  0.005\n",
      "        7  0.27914   0.085 -0.185 -0.031  0.180 -0.162 -0.021  1.000  0.009  0.021 -0.040 -0.044\n",
      "        8  0.08993   0.043 -0.036  0.009  0.005 -0.017 -0.034  0.009  1.000 -0.000 -0.028  0.038\n",
      "        9  0.03280   0.008 -0.010  0.000  0.002 -0.011 -0.000  0.021 -0.000  1.000 -0.003 -0.024\n",
      "       10  0.87680  -0.510  0.411 -0.298  0.241 -0.054 -0.700 -0.040 -0.028 -0.003  1.000 -0.039\n",
      "       11  0.26326  -0.122  0.104  0.013 -0.066  0.110  0.005 -0.044  0.038 -0.024 -0.039  1.000\n",
      "[#1] INFO:Minization -- RooMinimizer::optimizeConst: deactivating const optimization\n",
      "##############\n",
      "RooRealVar::meanpsi2S = 3.69547 +/- 0.0258759  L(3.65 - 3.75) \n",
      "RooRealVar::NJpsi = 155.517 +/- 18.7992  L(0.1 - 10000) \n",
      "RooFormulaVar::Npsi[ actualVars=(eff_psi,lumi_psi,cross_psi) formula=\"x[0]*x[1]*x[2]\" ] = 4.6322\n",
      "RooRealVar::cross_psi = 9.65042 +/- 7.94308  L(0 - 40) // [pb]\n",
      "##############\n"
     ]
    },
    {
     "name": "stdout",
     "output_type": "stream",
     "text": [
      "[#1] INFO:Plotting -- RooAbsPdf::plotOn(totPDF) directly selected PDF components: (backgroundPDF)\n",
      "[#1] INFO:Plotting -- RooAbsPdf::plotOn(totPDF) indirectly selected PDF components: ()\n",
      "Info in <TCanvas::Print>: png file exercise_0.png has been created\n",
      "[#1] INFO:ObjectHandling -- RooWorkspace::import(ws) importing RooAddPdf::totPDF\n",
      "[#1] INFO:ObjectHandling -- RooWorkspace::import(ws) importing RooCBShape::CBJpsi\n",
      "[#1] INFO:ObjectHandling -- RooWorkspace::import(ws) importing RooRealVar::mass\n",
      "[#1] INFO:ObjectHandling -- RooWorkspace::import(ws) importing RooRealVar::meanJpsi\n",
      "[#1] INFO:ObjectHandling -- RooWorkspace::import(ws) importing RooRealVar::sigmaJpsi\n",
      "[#1] INFO:ObjectHandling -- RooWorkspace::import(ws) importing RooRealVar::alphaJpsi\n",
      "[#1] INFO:ObjectHandling -- RooWorkspace::import(ws) importing RooRealVar::nJpsi\n",
      "[#1] INFO:ObjectHandling -- RooWorkspace::import(ws) importing RooRealVar::NJpsi\n",
      "[#1] INFO:ObjectHandling -- RooWorkspace::import(ws) importing RooGaussian::gausspsi2S\n",
      "[#1] INFO:ObjectHandling -- RooWorkspace::import(ws) importing RooRealVar::meanpsi2S\n",
      "[#1] INFO:ObjectHandling -- RooWorkspace::import(ws) importing RooFormulaVar::Npsi\n",
      "[#1] INFO:ObjectHandling -- RooWorkspace::import(ws) importing RooRealVar::eff_psi\n",
      "[#1] INFO:ObjectHandling -- RooWorkspace::import(ws) importing RooRealVar::lumi_psi\n",
      "[#1] INFO:ObjectHandling -- RooWorkspace::import(ws) importing RooRealVar::cross_psi\n",
      "[#1] INFO:ObjectHandling -- RooWorkspace::import(ws) importing RooChebychev::backgroundPDF\n",
      "[#1] INFO:ObjectHandling -- RooWorkspace::import(ws) importing RooRealVar::a1\n",
      "[#1] INFO:ObjectHandling -- RooWorkspace::import(ws) importing RooRealVar::a2\n",
      "[#1] INFO:ObjectHandling -- RooWorkspace::import(ws) importing RooRealVar::a3\n",
      "[#1] INFO:ObjectHandling -- RooWorkspace::import(ws) importing RooRealVar::Nbkg\n",
      "[#1] INFO:ObjectHandling -- RooWorkspace::import(ws) importing dataset data\n"
     ]
    }
   ],
   "source": [
    "!python3 roofit.py"
   ]
  },
  {
   "cell_type": "code",
   "execution_count": 5,
   "metadata": {},
   "outputs": [
    {
     "data": {
      "image/png": "[encoded data removed]",
      "text/plain": [
       "<IPython.core.display.Image object>"
      ]
     },
     "execution_count": 5,
     "metadata": {},
     "output_type": "execute_result"
    }
   ],
   "source": [
    "from IPython.display import Image\n",
    "Image(filename=\"exercise_0.png\")"
   ]
  },
  {
   "cell_type": "code",
   "execution_count": 10,
   "metadata": {},
   "outputs": [
    {
     "name": "stdout",
     "output_type": "stream",
     "text": [
      "\n",
      "RooWorkspace(ws) ws contents\n",
      "\n",
      "variables\n",
      "---------\n",
      "(NJpsi,Nbkg,a1,a2,a3,alphaJpsi,cross_psi,eff_psi,lumi_psi,mass,meanJpsi,meanpsi2S,nJpsi,sigmaJpsi)\n",
      "\n",
      "p.d.f.s\n",
      "-------\n",
      "RooCBShape::CBJpsi[ m=mass m0=meanJpsi sigma=sigmaJpsi alpha=alphaJpsi n=nJpsi ] = 2.16364e-167\n",
      "RooChebychev::backgroundPDF[ x=mass coefList=(a1,a2,a3) ] = 0.711862\n",
      "RooGaussian::gausspsi2S[ x=mass mean=meanpsi2S sigma=sigmaJpsi ] = 1.55156e-19\n",
      "RooAddPdf::totPDF[ NJpsi * CBJpsi + Npsi * gausspsi2S + Nbkg * backgroundPDF ] = 0.483844\n",
      "\n",
      "functions\n",
      "--------\n",
      "RooFormulaVar::Npsi[ actualVars=(eff_psi,lumi_psi,cross_psi) formula=\"x[0]*x[1]*x[2]\" ] = 4.6322\n",
      "\n",
      "datasets\n",
      "--------\n",
      "RooDataSet::data(mass)\n",
      "\n",
      "\n",
      "[#1] INFO:Minization -- RooProfileLL::evaluate(pll) Creating instance of MINUIT\n",
      "[#1] INFO:Minization -- RooProfileLL::evaluate(pll) determining minimum likelihood for current configurations w.r.t all observable\n",
      "[#1] INFO:Minization -- RooProfileLL::evaluate(pll) minimum found at (meanJpsi=3.0935)\n",
      ".........................................................................................................................................................................................................."
     ]
    },
    {
     "name": "stderr",
     "output_type": "stream",
     "text": [
      "Warning in <TCanvas::Constructor>: Deleting canvas with same name: c\n"
     ]
    },
    {
     "data": {
      "image/png": "[encoded data removed]",
      "text/plain": [
       "<IPython.core.display.Image object>"
      ]
     },
     "metadata": {},
     "output_type": "display_data"
    }
   ],
   "source": [
    "file = ROOT.TFile.Open(\"Workspace_mumufit.root\")\n",
    "ws = file.Get(\"ws\")  # In C++ andrebbe castato in RooWorkspace*\n",
    "ws.Print()\n",
    "\n",
    "xl = ws.var(\"meanJpsi\").getVal() - 2.2 * ws.var(\"meanJpsi\").getError()\n",
    "xu = ws.var(\"meanJpsi\").getVal() + 2.2 * ws.var(\"meanJpsi\").getError()\n",
    "ws.var(\"meanJpsi\").setRange(xl, xu)\n",
    "# Ricostruiamo la negative log likelihood -log(L)\n",
    "nll = ROOT.RooNLLVar(\"nll\", \"nll\", ws.pdf(\"totPDF\"), ws.data(\"data\"))\n",
    "# Profiliamo la -log(L) della massa media della J/psi\n",
    "pll = ROOT.RooProfileLL(\"pll\", \"pll\", nll, ws.var(\"meanJpsi\"))\n",
    "\n",
    "frame = ws.var(\"meanJpsi\").frame(xl, xu)\n",
    "pll.plotOn(frame)\n",
    "\n",
    "canvas = ROOT.TCanvas(\"c\", \"c\", 600, 450)\n",
    "frame.Draw()\n",
    "canvas.Draw()"
   ]
  },
  {
   "cell_type": "code",
   "execution_count": null,
   "metadata": {},
   "outputs": [],
   "source": []
  }
 ],
 "metadata": {
  "kernelspec": {
   "display_name": "Python 3",
   "language": "python",
   "name": "python3"
  },
  "language_info": {
   "codemirror_mode": {
    "name": "ipython",
    "version": 3
   },
   "file_extension": ".py",
   "mimetype": "text/x-python",
   "name": "python",
   "nbconvert_exporter": "python",
   "pygments_lexer": "ipython3",
   "version": "3.8.5"
  }
 },
 "nbformat": 4,
 "nbformat_minor": 4
}
